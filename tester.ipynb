{
 "cells": [
  {
   "cell_type": "code",
   "execution_count": 27,
   "metadata": {},
   "outputs": [],
   "source": [
    "from groq import Groq\n",
    "from dotenv import load_dotenv\n",
    "from langchain_core.pydantic_v1 import BaseModel, Field\n",
    "import os \n",
    "import subprocess\n",
    "import sys\n",
    "from textwrap import dedent\n",
    "from langchain.prompts import PromptTemplate\n",
    "from langchain_core.output_parsers import JsonOutputParser,CommaSeparatedListOutputParser\n",
    "from langchain_groq import ChatGroq\n",
    "from langchain_core.prompts import ChatPromptTemplate\n",
    "load_dotenv()\n",
    "api_key =  os.environ.get('GROQ_API_KEY')"
   ]
  },
  {
   "cell_type": "code",
   "execution_count": 28,
   "metadata": {},
   "outputs": [],
   "source": [
    "# set up groq client:\n",
    "client = Groq(\n",
    "    api_key=api_key,\n",
    ")\n",
    "llm = ChatGroq(\n",
    "            temperature=0,\n",
    "            model_name=\"mixtral-8x7b-32768\",\n",
    "            streaming=True\n",
    "        )\n"
   ]
  },
  {
   "cell_type": "markdown",
   "metadata": {},
   "source": [
    "------------------------------------------"
   ]
  },
  {
   "cell_type": "code",
   "execution_count": 29,
   "metadata": {},
   "outputs": [],
   "source": [
    "# create a pydantic objecet for ouput parsing\n",
    "class grade(BaseModel):\n",
    "    \"\"\"\"\n",
    "    Boolean value indicating whether the given user query requires python code to generate the better response     \n",
    "    \"\"\"\n",
    "    code : bool = Field(description=\"Validation score 'True' or 'False'\")\n",
    "    \n",
    "parser =  JsonOutputParser(pydantic_object=grade)\n",
    "query = \"can u write a story for me?\" \n",
    "prompt = PromptTemplate(\n",
    "    template=dedent(\n",
    "    \"\"\"\"\n",
    "    Based on the user query, determine whether it is beneficial to use python code to generate a better response.\n",
    "    -Respond True if it is beneficial to use python code to generate a better response, otherwise respond False.\n",
    "    -Is there any calculation or similar needed to be performed repond True \n",
    "    -------- User query------\n",
    "    {query}\n",
    "    ------------------------\n",
    "    Provide the Boolean value as a JSON,\n",
    "    DO NOT provide any explanation and use these instructons to format the output  \\n: \n",
    "    {format_instructions}\"\"\"),\n",
    "      \n",
    "input_variables=[\"query\"],\n",
    "partial_variables={\"format_instructions\": parser.get_format_instructions()})\n"
   ]
  },
  {
   "cell_type": "code",
   "execution_count": 30,
   "metadata": {},
   "outputs": [],
   "source": [
    "chain = prompt | llm | parser\n",
    "response = chain.invoke(\n",
    "    {\n",
    "        \"query\": query,\n",
    "        \"fromat_instructions\":parser.get_format_instructions()\n",
    "    }\n",
    ")"
   ]
  },
  {
   "cell_type": "code",
   "execution_count": 33,
   "metadata": {},
   "outputs": [
    {
     "data": {
      "text/plain": [
       "False"
      ]
     },
     "execution_count": 33,
     "metadata": {},
     "output_type": "execute_result"
    }
   ],
   "source": [
    "response['code']"
   ]
  },
  {
   "cell_type": "markdown",
   "metadata": {},
   "source": [
    "---------------------------------------------"
   ]
  },
  {
   "cell_type": "code",
   "execution_count": 15,
   "metadata": {},
   "outputs": [],
   "source": [
    "system_message_1 = \"You are a super creative expert in python , user task to provide a best python code to accomplish the given user goal \"\n",
    "human_message_1 =dedent(\n",
    "    \"\"\"\"\n",
    "    Based on the user query, provide the python code to solve the given problem.\n",
    "    -------- User query------\n",
    "    {user_goal}\n",
    "    ------------------------\n",
    "    - DO NOT provide any explanation just provide the python code \n",
    "    - Dont add any preamble in the response \\n:\"\"\" )\n",
    "\n",
    "system_message_2 = \"You are a expert in python , user task to remove all text that are not needed to run the python code: \"\n",
    "\n",
    "human_message_2 =dedent(\n",
    "    \"\"\"\"\n",
    "    Based on the provided python code, remove all text that are not needed to run the python code.\n",
    "    - check for any syntax errors, if any fix those errors \n",
    "    -------- code ------\n",
    "    {code}\n",
    "    ------------------------\n",
    "    - DO NOT provide any explanation just provide the python code \n",
    "    - just provide the python code \n",
    "    - Dont add any preamble in the response\n",
    "    - provide the complete code \\n:\"\"\" )\n"
   ]
  },
  {
   "cell_type": "code",
   "execution_count": 22,
   "metadata": {},
   "outputs": [
    {
     "name": "stdout",
     "output_type": "stream",
     "text": [
      "Code saved to: generated_code.py\n"
     ]
    }
   ],
   "source": [
    "# creating a funtion that takes a user goal as input and provide the python code to solve that \n",
    "\n",
    "\n",
    "\n",
    "def initial_code_creation(user_goal:str):\n",
    "    prompt = ChatPromptTemplate.from_messages([(\"system\", system_message_1), (\"human\", human_message_1)])\n",
    "    chain = prompt | llm \n",
    "    response = chain.invoke(\n",
    "    {\n",
    "        \"user_goal\": user_goal\n",
    "    })\n",
    "    return response.content\n",
    "\n",
    "def code_preproceess(initial_code:str):\n",
    "    prompt = ChatPromptTemplate.from_messages([(\"system\", system_message_2), (\"human\", human_message_2)])\n",
    "    chain = prompt | llm \n",
    "    response = chain.invoke(\n",
    "    {\n",
    "        \"code\": initial_code\n",
    "    })\n",
    "    return response.content\n",
    "\n",
    "\n",
    "def clean_code(code:str):\n",
    "    clean_code = code.replace(\"```python\",\"\").replace(\"```\",\"\")\n",
    "    return clean_code\n",
    "\n",
    "def save_code_to_file(code: str, file_name: str = \"generated_code.py\"):\n",
    "    with open(file_name, \"w\") as file:\n",
    "        file.write(code)\n",
    "    return file_name\n",
    "\n",
    "initial_code = initial_code_creation(\"provide a python code to print the 10 numbers from the fibonacci series that are divisible by 5\")\n",
    "code = code_preproceess(initial_code)\n",
    "code = clean_code(code)\n",
    "file_name = save_code_to_file(code)\n",
    "\n",
    "print(\"Code saved to:\", file_name)"
   ]
  },
  {
   "cell_type": "code",
   "execution_count": 23,
   "metadata": {},
   "outputs": [
    {
     "name": "stdout",
     "output_type": "stream",
     "text": [
      "Execution successful\n",
      "Output:\n",
      "[0, 5, 55, 610, 6765, 75025, 832040, 9227465, 102334155, 1134903170]\n",
      "\n",
      "\n",
      "\n"
     ]
    }
   ],
   "source": [
    "import subprocess\n",
    "\n",
    "def execute_python_file_in_conda_env(file_path, conda_env_name):\n",
    "    try:\n",
    "        # Execute the Python file within the specified Conda environment\n",
    "        result = subprocess.run([\"conda\", \"run\", \"-n\", conda_env_name, \"python\", file_path], stdout=subprocess.PIPE, stderr=subprocess.PIPE, check=True, text=True)\n",
    "        return True, result.stdout  # Execution successful, return stdout\n",
    "    except subprocess.CalledProcessError as e:\n",
    "        # If an error occurs during execution, return False along with the error message\n",
    "        \n",
    "        # \n",
    "        #   need to call the self corrective agent \n",
    "        #\n",
    "        \n",
    "        return False, e.stderr\n",
    "\n",
    "# Example usage:\n",
    "file_path = \"generated_code.py\"  \n",
    "conda_env_name = \"genai\"  \n",
    "success, output = execute_python_file_in_conda_env(file_path, conda_env_name)\n",
    "if success:\n",
    "    print(\"Execution successful\")\n",
    "    print(\"Output:\")\n",
    "    print(output)\n",
    "else:\n",
    "    print(\"Execution failed with error:\", output)\n"
   ]
  },
  {
   "cell_type": "markdown",
   "metadata": {},
   "source": [
    "--------------------"
   ]
  },
  {
   "cell_type": "code",
   "execution_count": 8,
   "metadata": {},
   "outputs": [],
   "source": [
    "def fetch_from_script(file_path):\n",
    "    try:\n",
    "        with open(file_path, \"r\") as file:\n",
    "            file_contents = file.read()\n",
    "            return file_contents\n",
    "    except FileNotFoundError:\n",
    "        print(f\"File '{file_path}' not found.\")"
   ]
  },
  {
   "cell_type": "code",
   "execution_count": 118,
   "metadata": {},
   "outputs": [],
   "source": [
    "system_message_3 = \"You are a expert python programmer \"\n",
    "human_message_3 =dedent(\n",
    "    \"\"\"\"\n",
    "    Based on the user code , You have to check import statements if there are any and list all the necessary libararies needed to installed\n",
    "    - Dont add any preamble in the response \n",
    "    -------- code------\n",
    "    {code}\n",
    "    ------------------------\n",
    "    - just find the libararies needed to install inorder to run the script\n",
    "    - Dont add any preamble in the response \n",
    "    - if there is any libraries need to be installed reespond in the following format\n",
    "    \\n:\n",
    "    {format_instructions}\"\"\" )"
   ]
  },
  {
   "cell_type": "code",
   "execution_count": 134,
   "metadata": {},
   "outputs": [
    {
     "name": "stdout",
     "output_type": "stream",
     "text": [
      "Values written to requirements.txt\n"
     ]
    }
   ],
   "source": [
    "# findall depencies and install those dependencies \n",
    "\n",
    "def findall_dependencies(file_path):\n",
    "    try:\n",
    "        with open(file_path, \"r\") as file:\n",
    "            file_contents = file.read()\n",
    "        \n",
    "    except FileNotFoundError:\n",
    "        print(f\"File '{file_path}' not found.\")\n",
    "    \n",
    "    output_parser = CommaSeparatedListOutputParser()\n",
    "    prompt = ChatPromptTemplate.from_messages([(\"system\", system_message_3), (\"human\", human_message_3)])\n",
    "    chain = prompt | llm | output_parser\n",
    "    response = chain.invoke(\n",
    "        {\n",
    "            \"code\": file_contents,\n",
    "            \"format_instructions\":output_parser.get_format_instructions()\n",
    "        }\n",
    "    )\n",
    "    return response\n",
    "\n",
    "def find_import_statements(script):\n",
    "    # Split the script into lines\n",
    "    lines = script.split('\\n')\n",
    "    \n",
    "    # Check each line for import statements\n",
    "    for line in lines:\n",
    "        if line.strip().startswith(\"import \") or line.strip().startswith(\"from \"):\n",
    "            return True  # Found an import statement\n",
    "    return False  # No import statements found\n",
    "\n",
    "\n",
    "def create_txt_file(values: list, file_name: str = \"requirements.txt\"):\n",
    "    # Split the comma-separated values\n",
    "    # value_list = values.split(\",\")\n",
    "\n",
    "    # Write each value to the text file\n",
    "    with open(file_name, \"w\") as file:\n",
    "        for value in values:\n",
    "            file.write(value.strip() + \"\\n\")\n",
    "\n",
    "    print(f\"Values written to {file_name}\")\n",
    "    \n",
    "def install_packages_from_requirements(requirements_file='requirements.txt',conda_env_name='genai' ):\n",
    "    try:\n",
    "        # Create a new Conda environment from the requirements file\n",
    "        subprocess.run([\"conda\", \"create\", \"--name\", conda_env_name, \"--file\", requirements_file, \"-y\"], check=True)\n",
    "        \n",
    "        print(f\"Conda environment '{conda_env_name}' created successfully from '{requirements_file}'.\")\n",
    "    except subprocess.CalledProcessError as e:\n",
    "        print(f\"Error occurred while creating Conda environment: {e}\")\n",
    "\n",
    "# wrapper function to find dependencies:\n",
    "def dependencies(file_path):\n",
    "    try:\n",
    "        with open(file_path, \"r\") as file:\n",
    "            file_contents = file.read()\n",
    "        \n",
    "    except FileNotFoundError:\n",
    "        print(f\"File '{file_path}' not found.\")\n",
    "        \n",
    "    if find_import_statements(file_contents):\n",
    "        dependencies = findall_dependencies(file_path)\n",
    "        create_txt_file(dependencies)\n",
    "        install_packages_from_requirements()\n",
    "    else:\n",
    "        print(\"No import statements found in the script.\")\n",
    "        \n",
    "# testing:\n",
    "dependencies(\"generated_code.py\")\n"
   ]
  },
  {
   "cell_type": "code",
   "execution_count": 1,
   "metadata": {},
   "outputs": [
    {
     "name": "stdout",
     "output_type": "stream",
     "text": [
      "Requirements installed successfully into Conda environment 'genai'.\n"
     ]
    }
   ],
   "source": [
    "import subprocess\n",
    "\n",
    "def install_requirements_in_env(conda_env_name, requirements_file):\n",
    "    try:\n",
    "        # Install packages from requirements.txt into the specified Conda environment\n",
    "        subprocess.run([\"conda\", \"install\", \"--name\", conda_env_name, \"--file\", requirements_file], check=True)\n",
    "        \n",
    "        print(f\"Requirements installed successfully into Conda environment '{conda_env_name}'.\")\n",
    "    except subprocess.CalledProcessError as e:\n",
    "        print(f\"Error occurred while installing requirements: {e}\")\n",
    "\n",
    "# Example usage:\n",
    "conda_env_name = \"genai\"  # Replace with your desired Conda environment name\n",
    "requirements_file = \"requirements.txt\"  # Replace with the path to your requirements.txt file\n",
    "install_requirements_in_env(conda_env_name, requirements_file)\n"
   ]
  },
  {
   "cell_type": "code",
   "execution_count": 33,
   "metadata": {},
   "outputs": [
    {
     "name": "stdout",
     "output_type": "stream",
     "text": [
      "all dependencies are installed\n"
     ]
    }
   ],
   "source": [
    "## fix dependencies sorted \n",
    "\n",
    "# def install_missing_module( module_name,conda_env_name = \"genai\"):\n",
    "#     try:\n",
    "#         print(module_name)\n",
    "#         # Install the missing module into the specified Conda environment\n",
    "#         subprocess.run([\"conda\", \"install\", \"-n\", conda_env_name, \"-c\", \"conda-forge\", module_name, \"-y\"], check=True)\n",
    "#         print(f\"Module '{module_name}' installed successfully into Conda environment '{conda_env_name}'.\")\n",
    "#     except subprocess.CalledProcessError as e:\n",
    "#         print(f\"Error occurred while installing module '{module_name}': {e}\")\n",
    "\n",
    "\n",
    "\n",
    "def pip_install_missing_module(module_name, conda_env_name=\"genai\"):\n",
    "    try:\n",
    "        # Install the missing module into the specified Conda environment using pip\n",
    "        subprocess.run([\"conda\", \"run\", \"-n\", conda_env_name, \"pip\", \"install\", module_name], check=True)\n",
    "        print(f\"Module '{module_name}' installed successfully into Conda environment '{conda_env_name}'.\")\n",
    "        with open(\"requirements.txt\", \"a\") as file:\n",
    "            file.write(module_name + \"\\n\")\n",
    "        print(f\"Module '{module_name}' appended to 'requirements.txt'.\")\n",
    "    except subprocess.CalledProcessError as e:\n",
    "        print(f\"Error occurred while installing module '{module_name}': {e}\")\n",
    "\n",
    "\n",
    "\n",
    "\n",
    "\n",
    "\n",
    "\n",
    "def execute_python_file_in_conda_env(file_path, conda_env_name= 'genai'):\n",
    "    try:\n",
    "        # Execute the Python file within the specified Conda environment\n",
    "        result = subprocess.run([\"conda\", \"run\", \"-n\", conda_env_name, \"python\", file_path], stdout=subprocess.PIPE, stderr=subprocess.PIPE, check=True, text=True)\n",
    "        return True, result.stdout  # Execution successful, return stdout\n",
    "    except subprocess.CalledProcessError as e:\n",
    "        error_message = e.stderr\n",
    "        # If module not found error, install the missing module and retry execution\n",
    "        if \"ModuleNotFoundError\" in error_message:\n",
    "            module_name = error_message.split(\"'\")[1]\n",
    "            print(f\"Module '{module_name}' not found in Conda environment '{conda_env_name}'. Installing...\")\n",
    "            pip_install_missing_module(module_name)\n",
    "            # Retry execution after installing the missing module\n",
    "            return execute_python_file_in_conda_env(file_path)\n",
    "        else:\n",
    "            # If an error occurs during execution other than module not found, return False along with the error message\n",
    "            return False, error_message\n",
    "\n",
    "# Example usage:\n",
    "file_path = \"main.py\"  # Replace with the path to your Python file\n",
    "conda_env_name = \"genai\"  # Replace with the name of your Conda environment\n",
    "def fix_dependencies(file_path, conda_env_name=\"genai\"):\n",
    "    success, output = execute_python_file_in_conda_env(file_path)\n",
    "    if success:\n",
    "        print(\"all dependencies are installed\")\n",
    "    else:   \n",
    "        print(\"Execution failed with error:\", output)\n",
    "\n",
    "fix_dependencies(\"generated_code.py\")"
   ]
  },
  {
   "cell_type": "markdown",
   "metadata": {},
   "source": [
    "-------------\n",
    "\n",
    "    "
   ]
  },
  {
   "cell_type": "code",
   "execution_count": 11,
   "metadata": {},
   "outputs": [],
   "source": [
    "user_goal = \"provide a python code to print the 10 numbers from the fibonacci series that are divisible by 5\""
   ]
  },
  {
   "cell_type": "code",
   "execution_count": 12,
   "metadata": {},
   "outputs": [],
   "source": [
    "system_message_4 = \"You are a expert python programmer you're task to fix the errors in the code\"\n",
    "human_message_4 =dedent(\n",
    "    \"\"\"\"\n",
    "    Based on the user code , and the error message you have to fix the errors in the code\n",
    "    - fix the errors and provide the corrected code \n",
    "    user goal:\n",
    "    {user_goal}\n",
    "    code:\n",
    "    {code}\n",
    "    error:\n",
    "    {error_msg}\n",
    "    -dont add any preamble in the response\n",
    "    -fix the error and provide the corrected code\n",
    "    - do not add any explanation just provide the corrected code\\n:\"\"\" )"
   ]
  },
  {
   "cell_type": "code",
   "execution_count": 26,
   "metadata": {},
   "outputs": [
    {
     "name": "stdout",
     "output_type": "stream",
     "text": [
      "Error:   File \"e:\\code_files\\final_projects\\self_corrective_agent\\generated_code.py\", line 6\n",
      "\n",
      "    if a % 5 =+ 0:\n",
      "\n",
      "       ^^^^^\n",
      "\n",
      "SyntaxError: cannot assign to expression here. Maybe you meant '==' instead of '='?\n",
      "\n",
      "\n",
      "ERROR conda.cli.main_run:execute(49): `conda run python generated_code.py` failed. (See above for error)\n",
      "\n"
     ]
    }
   ],
   "source": [
    "def execute_python_file_in_conda_env(file_path, conda_env_name):\n",
    "    try:\n",
    "        # Execute the Python file within the specified Conda environment\n",
    "        result = subprocess.run([\"conda\", \"run\", \"-n\", conda_env_name, \"python\", file_path], stdout=subprocess.PIPE, stderr=subprocess.PIPE, check=True, text=True)\n",
    "        print(\"stdout:\", result.stdout)  # Print stdout\n",
    "      #  print(\"stderr:\", result.stderr)  # Print stderr\n",
    "        return True, result.stdout  # Execution successful, return stdout\n",
    "    except subprocess.CalledProcessError as e:\n",
    "        # If an error occurs during execution, return False along with the error message\n",
    "        return False, e.stderr\n",
    "\n",
    "\n",
    "def self_correct_code(code,error):\n",
    "    prompt = ChatPromptTemplate.from_messages([(\"system\", system_message_4), (\"human\", human_message_4)])\n",
    "    chain = prompt | llm \n",
    "    response = chain.invoke(\n",
    "    {\n",
    "        \"user_goal\": user_goal,\n",
    "        \"code\":code,\n",
    "        \"error_msg\":error\n",
    "    })\n",
    "    return response.content\n",
    "success,result = execute_python_file_in_conda_env(\"generated_code.py\",\"genai\")\n",
    "\n",
    "if not success:\n",
    "    print(\"Error:\", result)\n",
    "    code = fetch_from_script(\"generated_code.py\")\n",
    "    code = self_correct_code(code,result)\n",
    "    code  = code_preproceess(code)\n",
    "    code = clean_code(code)\n",
    "    save_code_to_file(code,\"generated_code.py\")\n",
    "else:\n",
    "    print(\"Execution successful\")\n",
    "    print(\"Output:\")\n",
    "    print(result)"
   ]
  },
  {
   "cell_type": "code",
   "execution_count": 34,
   "metadata": {},
   "outputs": [],
   "source": [
    "import curses"
   ]
  },
  {
   "cell_type": "code",
   "execution_count": 36,
   "metadata": {},
   "outputs": [
    {
     "data": {
      "text/plain": [
       "(False,\n",
       " '\\nRedirection is not supported.\\n\\nERROR conda.cli.main_run:execute(49): `conda run python generated_code.py` failed. (See above for error)\\n')"
      ]
     },
     "execution_count": 36,
     "metadata": {},
     "output_type": "execute_result"
    }
   ],
   "source": [
    "def execute_python_file_in_conda_env(file_path, conda_env_name):\n",
    "    try:\n",
    "        # Execute the Python file within the specified Conda environment\n",
    "        result = subprocess.run([\"conda\", \"run\", \"-n\", conda_env_name, \"python\", file_path], stdout=subprocess.PIPE, stderr=subprocess.PIPE, check=True, text=True)\n",
    "        print(\"stdout:\", result.stdout)  # Print stdout\n",
    "      #  print(\"stderr:\", result.stderr)  # Print stderr\n",
    "        return True, result.stdout  # Execution successful, return stdout\n",
    "    except subprocess.CalledProcessError as e:\n",
    "        # If an error occurs during execution, return False along with the error message\n",
    "        return False, e.stderr\n",
    "execute_python_file_in_conda_env(\"generated_code.py\",\"genai\")"
   ]
  },
  {
   "cell_type": "code",
   "execution_count": 37,
   "metadata": {},
   "outputs": [
    {
     "data": {
      "text/plain": [
       "(False,\n",
       " '\\nRedirection is not supported.\\n\\nERROR conda.cli.main_run:execute(49): `conda run python generated_code.py` failed. (See above for error)\\n')"
      ]
     },
     "execution_count": 37,
     "metadata": {},
     "output_type": "execute_result"
    }
   ],
   "source": [
    "def execute_python_file_in_conda_env(file_path, conda_env_name):\n",
    "    try:\n",
    "        # Execute the Python file within the specified Conda environment\n",
    "        result = subprocess.run([\"conda\", \"run\", \"-n\", conda_env_name, \"python\", file_path], stdout=subprocess.PIPE, stderr=subprocess.PIPE, check=True, text=True)\n",
    "        print(\"stdout:\", result.stdout)  # Print stdout\n",
    "      #  print(\"stderr:\", result.stderr)  # Print stderr\n",
    "        return True, result.stdout  # Execution successful, return stdout\n",
    "    except subprocess.CalledProcessError as e:\n",
    "        # If an error occurs during execution, return False along with the error message\n",
    "        return False, e.stderr\n",
    "execute_python_file_in_conda_env(\"generated_code.py\",\"genai\")"
   ]
  },
  {
   "cell_type": "code",
   "execution_count": 49,
   "metadata": {},
   "outputs": [
    {
     "name": "stdout",
     "output_type": "stream",
     "text": [
      "\n",
      "Redirection is not supported.\n"
     ]
    },
    {
     "data": {
      "text/plain": [
       "(True, None)"
      ]
     },
     "execution_count": 49,
     "metadata": {},
     "output_type": "execute_result"
    }
   ],
   "source": [
    "import subprocess\n",
    "\n",
    "def execute_python_file_in_conda_env(file_path, conda_env_name):\n",
    "    try:\n",
    "        # Activate the Conda environment\n",
    "        activate_command = f\"conda activate {conda_env_name}\"\n",
    "        subprocess.run(activate_command, shell=True, check=True)\n",
    "        \n",
    "        # Execute the Python file within the activated Conda environment using subprocess.Popen\n",
    "        process = subprocess.Popen([\"python\", file_path], stdout=subprocess.PIPE, stderr=subprocess.PIPE)\n",
    "        \n",
    "        # Read and print the output from stdout and stderr\n",
    "        for line in process.stdout:\n",
    "            print(line.decode().strip())  # Decode bytes to str and strip newline characters\n",
    "        for line in process.stderr:\n",
    "            print(line.decode().strip())  # Decode bytes to str and strip newline characters\n",
    "        \n",
    "        process.wait()  # Wait for the process to finish\n",
    "        \n",
    "        return True, None  # Execution successful\n",
    "    except Exception as e:\n",
    "        # If an error occurs during execution, return False along with the error message\n",
    "        print(\"Error:\", str(e))\n",
    "        return False, None\n",
    "\n",
    "# Example usage:\n",
    "execute_python_file_in_conda_env(\"generated_code.py\", \"genai\")\n"
   ]
  },
  {
   "cell_type": "code",
   "execution_count": null,
   "metadata": {},
   "outputs": [],
   "source": []
  }
 ],
 "metadata": {
  "kernelspec": {
   "display_name": "rag_applications",
   "language": "python",
   "name": "python3"
  },
  "language_info": {
   "codemirror_mode": {
    "name": "ipython",
    "version": 3
   },
   "file_extension": ".py",
   "mimetype": "text/x-python",
   "name": "python",
   "nbconvert_exporter": "python",
   "pygments_lexer": "ipython3",
   "version": "3.10.13"
  }
 },
 "nbformat": 4,
 "nbformat_minor": 2
}
